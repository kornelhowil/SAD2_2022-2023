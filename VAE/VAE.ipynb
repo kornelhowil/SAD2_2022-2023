{
 "cells": [
  {
   "cell_type": "code",
   "execution_count": 111,
   "id": "c9159a66",
   "metadata": {},
   "outputs": [],
   "source": [
    "import torch\n",
    "import torch.nn as nn\n",
    "import torch.nn.functional as F\n",
    "from torchvision import datasets, transforms\n",
    "import torch.optim as optim\n",
    "from torchvision.utils import save_image\n",
    "import seaborn as sns\n",
    "import matplotlib.pyplot as plt\n",
    "\n",
    "if torch.backends.mps.is_available():\n",
    "    device = torch.device(\"mps\")\n",
    "else:\n",
    "    device = torch.device(\"cpu\")"
   ]
  },
  {
   "cell_type": "markdown",
   "id": "33c2cc51",
   "metadata": {},
   "source": [
    "# VAE"
   ]
  },
  {
   "cell_type": "markdown",
   "id": "a59eb95e",
   "metadata": {},
   "source": [
    "### Encoder"
   ]
  },
  {
   "cell_type": "code",
   "execution_count": 112,
   "id": "ca7b4931",
   "metadata": {},
   "outputs": [],
   "source": [
    "class Encoder(nn.Module):\n",
    "    def __init__(self, x_dim, h_dim1, h_dim2, z_dim):\n",
    "        super(Encoder, self).__init__()\n",
    "        self.lin1 = nn.Linear(x_dim, h_dim1)\n",
    "        self.lin2 = nn.Linear(h_dim1, h_dim2)\n",
    "        self.lin31 = nn.Linear(h_dim2, z_dim) # mu\n",
    "        self.lin32 = nn.Linear(h_dim2, z_dim) # log_var\n",
    "        \n",
    "    def forward(self, x):\n",
    "        x = F.relu(self.lin1(x))\n",
    "        x = F.relu(self.lin2(x))\n",
    "        return self.lin31(x), self.lin32(x) # mu, log_var"
   ]
  },
  {
   "cell_type": "markdown",
   "id": "55c8a68c",
   "metadata": {},
   "source": [
    "### Decoder"
   ]
  },
  {
   "cell_type": "code",
   "execution_count": 113,
   "id": "79268a03",
   "metadata": {},
   "outputs": [],
   "source": [
    "class Decoder(nn.Module):\n",
    "    def __init__(self, x_dim, h_dim1, h_dim2, z_dim):\n",
    "        super(Decoder, self).__init__()\n",
    "        self.lin4 = nn.Linear(z_dim, h_dim2)\n",
    "        self.lin5 = nn.Linear(h_dim2, h_dim1)\n",
    "        self.lin6 = nn.Linear(h_dim1, x_dim)\n",
    "\n",
    "    def forward(self, z):\n",
    "        h = F.relu(self.lin4(z))\n",
    "        h = F.relu(self.lin5(h))\n",
    "        return torch.sigmoid(self.lin6(h)) "
   ]
  },
  {
   "cell_type": "markdown",
   "id": "34a67c01",
   "metadata": {},
   "source": [
    "### Model"
   ]
  },
  {
   "cell_type": "code",
   "execution_count": 114,
   "id": "222b0dbb",
   "metadata": {},
   "outputs": [],
   "source": [
    "class VAE(nn.Module):\n",
    "    def __init__(self, x_dim, h_dim1, h_dim2, z_dim):\n",
    "        super(VAE, self).__init__()\n",
    "        self.encoder = Encoder(x_dim, h_dim1, h_dim2, z_dim)\n",
    "        self.decoder = Decoder(x_dim, h_dim1, h_dim2, z_dim)\n",
    "        \n",
    "    def sampling(self, mu, log_var): \n",
    "        std = torch.sqrt(torch.exp(log_var))\n",
    "        eps = torch.randn_like(std)\n",
    "        return eps * std + mu\n",
    "\n",
    "    def forward(self, x):\n",
    "        mu, log_var = self.encoder.forward(x)\n",
    "        z = self.sampling(mu, log_var)\n",
    "        mu_d = self.decoder(z)\n",
    "        return mu_d, mu, log_var\n",
    "    \n",
    "    def generate(self, z):\n",
    "        return self.decoder(z)"
   ]
  },
  {
   "cell_type": "markdown",
   "id": "d1683a49",
   "metadata": {},
   "source": [
    "# Loss"
   ]
  },
  {
   "cell_type": "code",
   "execution_count": 115,
   "id": "29fa2311",
   "metadata": {},
   "outputs": [],
   "source": [
    "def kl_mvn(mu, sigma, device):\n",
    "    N = mu.shape[1]\n",
    "    mu = mu.reshape(mu.shape[0], mu.shape[1], 1)\n",
    "    tr_term   = torch.sum(sigma, axis = 1)\n",
    "    det_term  = -torch.log(torch.prod(sigma, axis = 1))\n",
    "    quad_term = torch.transpose(mu, 1, 2) @ mu\n",
    "    return torch.sum(0.5 * (tr_term + det_term + quad_term - N))"
   ]
  },
  {
   "cell_type": "code",
   "execution_count": 116,
   "id": "4f2af828",
   "metadata": {},
   "outputs": [],
   "source": [
    "def loss_function(recon_x, x, mu, log_var, beta):\n",
    "    BCE =  F.binary_cross_entropy(recon_x, x, reduction='sum')\n",
    "    KLD = kl_mvn(mu, torch.exp(log_var), device)\n",
    "    return BCE + beta * KLD"
   ]
  },
  {
   "cell_type": "markdown",
   "id": "503c19c3",
   "metadata": {},
   "source": [
    "# Train and test functions"
   ]
  },
  {
   "cell_type": "code",
   "execution_count": 124,
   "id": "f77942c5",
   "metadata": {},
   "outputs": [],
   "source": [
    "def test(vae, test_loader, beta):\n",
    "    vae.eval()\n",
    "    test_loss = 0\n",
    "    with torch.no_grad():\n",
    "        for batch_idx, (data, _) in enumerate(test_loader):\n",
    "            data = data.reshape([-1, 784])\n",
    "            recon, mu, log_var = vae(data)\n",
    "            test_loss += loss_function(recon, data, mu, log_var, beta).item()\n",
    "        \n",
    "    test_loss /= len(test_loader.dataset)\n",
    "    print(f'====> Test set loss: {test_loss}')\n",
    "    return test_loss"
   ]
  },
  {
   "cell_type": "code",
   "execution_count": 125,
   "id": "abe4b29b",
   "metadata": {},
   "outputs": [],
   "source": [
    "def train(vae, epoch, optimizer, train_loader, beta):\n",
    "    vae.train()\n",
    "    train_loss = 0\n",
    "    batch_idx = 0\n",
    "    for batch_idx, (data, _) in enumerate(train_loader):\n",
    "        data = data.to(device)\n",
    "        data = data.reshape([-1, 784])\n",
    "        optimizer.zero_grad()\n",
    "        recon_batch, mu, log_var = vae(data)\n",
    "        loss = loss_function(recon_batch, data, mu, log_var, beta)\n",
    "        loss.backward()\n",
    "        train_loss += loss.item()\n",
    "        optimizer.step()\n",
    "        batch_idx += 1\n",
    "    train_loss /= len(train_loader.dataset)\n",
    "    print(f'====> Epoch: {epoch} Average loss: {train_loss}')\n",
    "    return train_loss"
   ]
  },
  {
   "cell_type": "markdown",
   "id": "200abb75",
   "metadata": {},
   "source": [
    "# Train and test sets"
   ]
  },
  {
   "cell_type": "code",
   "execution_count": 126,
   "id": "0c29d82e",
   "metadata": {},
   "outputs": [],
   "source": [
    "# Batch size\n",
    "bs = 32\n",
    "# MNIST Dataset\n",
    "train_dataset = datasets.MNIST(root='./mnist_data/',\n",
    "                               train=True,\n",
    "                               transform=transforms.ToTensor(),\n",
    "                               download=True)\n",
    "test_dataset = datasets.MNIST(root='./mnist_data/',\n",
    "                              train=False,\n",
    "                              transform=transforms.ToTensor(),\n",
    "                              download=False)\n",
    "\n",
    "# Data Loader (Input Pipeline)\n",
    "train_loader = torch.utils.data.DataLoader(dataset=train_dataset, batch_size=bs, shuffle=True)\n",
    "test_loader = torch.utils.data.DataLoader(dataset=test_dataset, batch_size=bs, shuffle=False)"
   ]
  },
  {
   "cell_type": "markdown",
   "id": "e8307e61",
   "metadata": {},
   "source": [
    "# Training"
   ]
  },
  {
   "cell_type": "code",
   "execution_count": 127,
   "id": "1a8e7612",
   "metadata": {},
   "outputs": [
    {
     "name": "stdout",
     "output_type": "stream",
     "text": [
      "====> Epoch: 1 Average loss: 177.63921728515626\n",
      "====> Test set loss: 167.04786755371094\n",
      "====> Epoch: 2 Average loss: 165.19479329427082\n",
      "====> Test set loss: 163.36739477539064\n",
      "====> Epoch: 3 Average loss: 162.11614813639324\n",
      "====> Test set loss: 161.2070421142578\n",
      "====> Epoch: 4 Average loss: 160.37610712890626\n",
      "====> Test set loss: 159.72736186523437\n",
      "====> Epoch: 5 Average loss: 159.00405657552082\n",
      "====> Test set loss: 159.10235717773438\n",
      "====> Epoch: 6 Average loss: 158.36907947591146\n",
      "====> Test set loss: 159.39810610351563\n",
      "====> Epoch: 7 Average loss: 157.79710495605468\n",
      "====> Test set loss: 157.7994602783203\n",
      "====> Epoch: 8 Average loss: 157.31356798095703\n",
      "====> Test set loss: 157.54037124023438\n",
      "====> Epoch: 9 Average loss: 157.00860393880208\n",
      "====> Test set loss: 157.27643056640625\n",
      "====> Epoch: 10 Average loss: 156.66316435139973\n",
      "====> Test set loss: 157.72754860839845\n",
      "====> Epoch: 11 Average loss: 155.98590592447917\n",
      "====> Test set loss: 156.1385772216797\n",
      "====> Epoch: 12 Average loss: 155.6743659749349\n",
      "====> Test set loss: 156.00999306640625\n",
      "====> Epoch: 13 Average loss: 155.27321468098958\n",
      "====> Test set loss: 156.38542739257812\n",
      "====> Epoch: 14 Average loss: 155.4156685953776\n",
      "====> Test set loss: 156.06077009277342\n",
      "====> Epoch: 15 Average loss: 154.98143282877604\n",
      "====> Test set loss: 155.27965935058594\n",
      "====> Epoch: 16 Average loss: 154.7575417236328\n",
      "====> Test set loss: 155.7902326660156\n",
      "====> Epoch: 17 Average loss: 154.56107718912762\n",
      "====> Test set loss: 155.1986188720703\n",
      "====> Epoch: 18 Average loss: 154.8344341349284\n",
      "====> Test set loss: 154.6757817138672\n",
      "====> Epoch: 19 Average loss: 154.47462005208334\n",
      "====> Test set loss: 154.30282963867188\n",
      "====> Epoch: 20 Average loss: 154.16463295898438\n",
      "====> Test set loss: 155.03765317382812\n",
      "====> Epoch: 21 Average loss: 154.10765868326823\n",
      "====> Test set loss: 154.79597497558595\n",
      "====> Epoch: 22 Average loss: 153.90766455078125\n",
      "====> Test set loss: 154.41293693847658\n",
      "====> Epoch: 23 Average loss: 153.49588503011068\n",
      "====> Test set loss: 154.39878334960937\n",
      "====> Epoch: 24 Average loss: 153.75208325602213\n",
      "====> Test set loss: 154.96385405273438\n",
      "====> Epoch: 25 Average loss: 153.96158096923827\n",
      "====> Test set loss: 154.7568828857422\n",
      "====> Epoch: 26 Average loss: 153.52770412597656\n",
      "====> Test set loss: 154.44962463378906\n",
      "====> Epoch: 27 Average loss: 153.13849388834635\n",
      "====> Test set loss: 154.6129153564453\n",
      "====> Epoch: 28 Average loss: 153.2687055786133\n",
      "====> Test set loss: 154.01726625976562\n",
      "====> Epoch: 29 Average loss: 153.3286349609375\n",
      "====> Test set loss: 153.74242556152345\n",
      "====> Epoch: 30 Average loss: 152.97435314127605\n",
      "====> Test set loss: 153.34698068847655\n",
      "====> Epoch: 31 Average loss: 152.91597776285806\n",
      "====> Test set loss: 153.3901035888672\n",
      "====> Epoch: 32 Average loss: 152.57203564453124\n",
      "====> Test set loss: 154.47819260253905\n",
      "====> Epoch: 33 Average loss: 152.6279331583659\n",
      "====> Test set loss: 153.65415546875\n",
      "====> Epoch: 34 Average loss: 153.00741283772786\n",
      "====> Test set loss: 154.3223194091797\n",
      "====> Epoch: 35 Average loss: 152.9339092936198\n",
      "====> Test set loss: 153.54743786621094\n",
      "====> Epoch: 36 Average loss: 152.43511537272136\n",
      "====> Test set loss: 152.96631376953124\n",
      "====> Epoch: 37 Average loss: 152.62391545003254\n",
      "====> Test set loss: 153.86183916015625\n",
      "====> Epoch: 38 Average loss: 152.8237438639323\n",
      "====> Test set loss: 154.53227568359375\n",
      "====> Epoch: 39 Average loss: 152.61916318359374\n",
      "====> Test set loss: 153.452040234375\n",
      "====> Epoch: 40 Average loss: 152.6723493774414\n",
      "====> Test set loss: 154.29091181640624\n",
      "====> Epoch: 41 Average loss: 152.68313298339845\n",
      "====> Test set loss: 153.87437170410155\n",
      "====> Epoch: 42 Average loss: 152.32619975585936\n",
      "====> Test set loss: 153.30235632324218\n",
      "====> Epoch: 43 Average loss: 152.2115727376302\n",
      "====> Test set loss: 153.13581220703125\n",
      "====> Epoch: 44 Average loss: 152.03249213460288\n",
      "====> Test set loss: 153.32025327148438\n",
      "====> Epoch: 45 Average loss: 151.9448900065104\n",
      "====> Test set loss: 153.16392412109374\n",
      "====> Epoch: 46 Average loss: 152.0972887125651\n",
      "====> Test set loss: 153.34631857910156\n",
      "====> Epoch: 47 Average loss: 151.88144640299478\n",
      "====> Test set loss: 153.31993664550782\n",
      "====> Epoch: 48 Average loss: 151.9029191813151\n",
      "====> Test set loss: 153.23372795410157\n",
      "====> Epoch: 49 Average loss: 152.52546016438802\n",
      "====> Test set loss: 153.22852802734374\n",
      "====> Epoch: 50 Average loss: 152.21252775878907\n",
      "====> Test set loss: 154.15789326171875\n"
     ]
    }
   ],
   "source": [
    "vae = VAE(x_dim=784, h_dim1= 512, h_dim2=256, z_dim=2)\n",
    "vae = vae.to(device)\n",
    "optimizer = optim.Adam(vae.parameters())\n",
    "\n",
    "train_losses = []\n",
    "test_losses = []\n",
    "for epoch in range(1, 51):\n",
    "    train_loss = train(vae, epoch, optimizer, train_loader, 0.1)\n",
    "    train_losses.append(train_loss)\n",
    "    vae = vae.cpu() # weird stuff happens when model is on GPU during testing\n",
    "    test_loss = test(vae, test_loader, 0.1)\n",
    "    test_losses.append(test_loss)\n",
    "    vae = vae.to(device)"
   ]
  },
  {
   "cell_type": "code",
   "execution_count": 132,
   "id": "9b7e563d",
   "metadata": {},
   "outputs": [
    {
     "data": {
      "image/png": "[encoded data removed]",
      "text/plain": [
       "<Figure size 640x480 with 1 Axes>"
      ]
     },
     "metadata": {},
     "output_type": "display_data"
    }
   ],
   "source": [
    "sns.lineplot(data=train_losses, label = 'train_loss')\n",
    "sns.lineplot(data=test_losses, label = 'test_loss')\n",
    "plt.legend()\n",
    "plt.ylabel('Loss')\n",
    "plt.xlabel('Epoch')\n",
    "plt.grid()\n",
    "plt.show()"
   ]
  },
  {
   "cell_type": "code",
   "execution_count": 134,
   "id": "4cc7b306",
   "metadata": {},
   "outputs": [],
   "source": [
    "with torch.no_grad():\n",
    "    z = torch.randn(64, 2).to(device)\n",
    "    sample = vae.generate(z).cpu()\n",
    "    save_image(sample.view(64, 1, 28, 28), './samples/sample' + '.png')"
   ]
  }
 ],
 "metadata": {
  "kernelspec": {
   "display_name": "Python 3 (ipykernel)",
   "language": "python",
   "name": "python3"
  },
  "language_info": {
   "codemirror_mode": {
    "name": "ipython",
    "version": 3
   },
   "file_extension": ".py",
   "mimetype": "text/x-python",
   "name": "python",
   "nbconvert_exporter": "python",
   "pygments_lexer": "ipython3",
   "version": "3.9.15"
  }
 },
 "nbformat": 4,
 "nbformat_minor": 5
}
