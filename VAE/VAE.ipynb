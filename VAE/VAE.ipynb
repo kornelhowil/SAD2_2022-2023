{
 "cells": [
  {
   "cell_type": "code",
   "execution_count": 289,
   "id": "c9159a66",
   "metadata": {},
   "outputs": [],
   "source": [
    "import torch\n",
    "import torch.nn as nn\n",
    "import torch.nn.functional as F\n",
    "from torchvision import datasets, transforms\n",
    "import torch.optim as optim\n",
    "from torchvision.utils import save_image\n",
    "import seaborn as sns\n",
    "import matplotlib.pyplot as plt\n",
    "\n",
    "if torch.backends.mps.is_available():\n",
    "    device = torch.device(\"mps\")\n",
    "else:\n",
    "    device = torch.device(\"cpu\")"
   ]
  },
  {
   "cell_type": "markdown",
   "id": "33c2cc51",
   "metadata": {},
   "source": [
    "# VAE"
   ]
  },
  {
   "cell_type": "markdown",
   "id": "a59eb95e",
   "metadata": {},
   "source": [
    "### Encoder"
   ]
  },
  {
   "cell_type": "code",
   "execution_count": 290,
   "id": "ca7b4931",
   "metadata": {},
   "outputs": [],
   "source": [
    "class Encoder(nn.Module):\n",
    "    def __init__(self, x_dim, h_dim1, h_dim2, z_dim):\n",
    "        super(Encoder, self).__init__()\n",
    "        self.lin1 = nn.Linear(x_dim, h_dim1)\n",
    "        self.lin2 = nn.Linear(h_dim1, h_dim2)\n",
    "        self.lin31 = nn.Linear(h_dim2, z_dim) # mu\n",
    "        self.lin32 = nn.Linear(h_dim2, z_dim) # log_var\n",
    "        \n",
    "    def forward(self, x):\n",
    "        x = F.relu(self.lin1(x))\n",
    "        x = F.relu(self.lin2(x))\n",
    "        return self.lin31(x), self.lin32(x) # mu, log_var"
   ]
  },
  {
   "cell_type": "markdown",
   "id": "55c8a68c",
   "metadata": {},
   "source": [
    "### Decoder"
   ]
  },
  {
   "cell_type": "code",
   "execution_count": 291,
   "id": "79268a03",
   "metadata": {},
   "outputs": [],
   "source": [
    "class Decoder(nn.Module):\n",
    "    def __init__(self, x_dim, h_dim1, h_dim2, z_dim):\n",
    "        super(Decoder, self).__init__()\n",
    "        self.lin4 = nn.Linear(z_dim, h_dim2)\n",
    "        self.lin5 = nn.Linear(h_dim2, h_dim1)\n",
    "        self.lin6 = nn.Linear(h_dim1, x_dim)\n",
    "        \n",
    "    def log_prob(self, x, p):\n",
    "        distribution = torch.distributions.continuous_bernoulli.ContinuousBernoulli(probs=p)\n",
    "        #print(torch.sum(distribution.log_prob(torch.round(x))))\n",
    "        return -torch.sum(distribution.log_prob(x))\n",
    "\n",
    "    def forward(self, z):\n",
    "        h = F.relu(self.lin4(z))\n",
    "        h = F.relu(self.lin5(h))\n",
    "        return torch.sigmoid(self.lin6(h)) "
   ]
  },
  {
   "cell_type": "markdown",
   "id": "34a67c01",
   "metadata": {},
   "source": [
    "### Model"
   ]
  },
  {
   "cell_type": "code",
   "execution_count": 292,
   "id": "222b0dbb",
   "metadata": {},
   "outputs": [],
   "source": [
    "class VAE(nn.Module):\n",
    "    def __init__(self, x_dim, h_dim1, h_dim2, z_dim):\n",
    "        super(VAE, self).__init__()\n",
    "        self.encoder = Encoder(x_dim, h_dim1, h_dim2, z_dim)\n",
    "        self.decoder = Decoder(x_dim, h_dim1, h_dim2, z_dim)\n",
    "        \n",
    "    def sampling(self, mu, log_var): \n",
    "        std = torch.sqrt(torch.exp(log_var))\n",
    "        eps = torch.randn_like(std)\n",
    "        return eps * std + mu\n",
    "\n",
    "    def forward(self, x):\n",
    "        mu, log_var = self.encoder(x)\n",
    "        z = self.sampling(mu, log_var)\n",
    "        mu_d = self.decoder(z)\n",
    "        return mu_d, mu, log_var\n",
    "    \n",
    "    def kl_div(self, mu, sigma):\n",
    "        N = mu.shape[1]\n",
    "        mu = mu.reshape(mu.shape[0], mu.shape[1], 1)\n",
    "        tr_term   = torch.sum(sigma, axis = 1)\n",
    "        det_term  = -torch.log(torch.prod(sigma, axis = 1))\n",
    "        quad_term = torch.transpose(mu, 1, 2) @ mu\n",
    "        return torch.sum(0.5 * (tr_term + det_term + quad_term - N))\n",
    "    \n",
    "    def loss_function(self, data, beta):\n",
    "        p, mu, log_var = self.forward(data)\n",
    "        kl_loss = self.kl_div(mu, torch.exp(log_var))\n",
    "        recon_loss = self.decoder.log_prob(torch.round(data), p)\n",
    "        return recon_loss + beta * kl_loss\n",
    "    \n",
    "    def generate(self, z):\n",
    "        return self.decoder(z)"
   ]
  },
  {
   "cell_type": "markdown",
   "id": "d1683a49",
   "metadata": {},
   "source": [
    "# Loss"
   ]
  },
  {
   "cell_type": "code",
   "execution_count": 293,
   "id": "29fa2311",
   "metadata": {},
   "outputs": [],
   "source": [
    "def kl_mvn(mu, sigma, device):\n",
    "    N = mu.shape[1]\n",
    "    mu = mu.reshape(mu.shape[0], mu.shape[1], 1)\n",
    "    tr_term   = torch.sum(sigma, axis = 1)\n",
    "    det_term  = -torch.log(torch.prod(sigma, axis = 1))\n",
    "    quad_term = torch.transpose(mu, 1, 2) @ mu\n",
    "    return torch.sum(0.5 * (tr_term + det_term + quad_term - N))"
   ]
  },
  {
   "cell_type": "code",
   "execution_count": 294,
   "id": "4f2af828",
   "metadata": {},
   "outputs": [],
   "source": [
    "def loss_function(vae, p, x, mu, log_var, beta):\n",
    "    BCE = vae.decoder.log_prob(torch.round(x), p)\n",
    "    KLD = kl_mvn(mu, torch.exp(log_var), device)\n",
    "    return BCE + beta * KLD"
   ]
  },
  {
   "cell_type": "markdown",
   "id": "503c19c3",
   "metadata": {},
   "source": [
    "# Train and test functions"
   ]
  },
  {
   "cell_type": "code",
   "execution_count": 295,
   "id": "f77942c5",
   "metadata": {},
   "outputs": [],
   "source": [
    "def test(vae, test_loader, beta):\n",
    "    vae.eval()\n",
    "    test_loss = 0\n",
    "    with torch.no_grad():\n",
    "        for batch_idx, (data, _) in enumerate(test_loader):\n",
    "            data = data.reshape([-1, 784])\n",
    "            test_loss += vae.loss_function(data, beta).item()\n",
    "        \n",
    "    test_loss /= len(test_loader.dataset)\n",
    "    print(f'====> Test set loss: {test_loss}')\n",
    "    return test_loss"
   ]
  },
  {
   "cell_type": "code",
   "execution_count": 296,
   "id": "abe4b29b",
   "metadata": {},
   "outputs": [],
   "source": [
    "def train(vae, epoch, optimizer, train_loader, beta):\n",
    "    vae.train()\n",
    "    train_loss = 0\n",
    "    batch_idx = 0\n",
    "    for batch_idx, (data, _) in enumerate(train_loader):\n",
    "        data = data.to(device)\n",
    "        data = data.reshape([-1, 784])\n",
    "        optimizer.zero_grad()\n",
    "        loss = vae.loss_function(data, beta)\n",
    "        #print(vae.decoder.log_prob(torch.round(data), recon_batch))\n",
    "        loss.backward()\n",
    "        train_loss += loss.item()\n",
    "        optimizer.step()\n",
    "        batch_idx += 1\n",
    "    train_loss /= len(train_loader.dataset)\n",
    "    print(f'====> Epoch: {epoch} Average loss: {train_loss}')\n",
    "    return train_loss"
   ]
  },
  {
   "cell_type": "markdown",
   "id": "200abb75",
   "metadata": {},
   "source": [
    "# Train and test sets"
   ]
  },
  {
   "cell_type": "code",
   "execution_count": 297,
   "id": "0c29d82e",
   "metadata": {},
   "outputs": [],
   "source": [
    "# Batch size\n",
    "bs = 32\n",
    "# MNIST Dataset\n",
    "train_dataset = datasets.MNIST(root='./mnist_data/',\n",
    "                               train=True,\n",
    "                               transform=transforms.ToTensor(),\n",
    "                               download=True)\n",
    "test_dataset = datasets.MNIST(root='./mnist_data/',\n",
    "                              train=False,\n",
    "                              transform=transforms.ToTensor(),\n",
    "                              download=False)\n",
    "\n",
    "# Data Loader (Input Pipeline)\n",
    "train_loader = torch.utils.data.DataLoader(dataset=train_dataset, batch_size=bs, shuffle=True)\n",
    "test_loader = torch.utils.data.DataLoader(dataset=test_dataset, batch_size=bs, shuffle=False)"
   ]
  },
  {
   "cell_type": "markdown",
   "id": "e8307e61",
   "metadata": {},
   "source": [
    "# Training"
   ]
  },
  {
   "cell_type": "code",
   "execution_count": 298,
   "id": "1a8e7612",
   "metadata": {},
   "outputs": [
    {
     "name": "stdout",
     "output_type": "stream",
     "text": [
      "====> Epoch: 1 Average loss: -1371.5497054365158\n",
      "====> Test set loss: -1411.6968400390624\n",
      "====> Epoch: 2 Average loss: -1419.8277007161457\n",
      "====> Test set loss: -1428.7349265625\n",
      "====> Epoch: 3 Average loss: -1430.5360788411458\n",
      "====> Test set loss: -1434.7833662109374\n",
      "====> Epoch: 4 Average loss: -1436.3195591145834\n",
      "====> Test set loss: -1438.6384896484376\n",
      "====> Epoch: 5 Average loss: -1441.1586161458333\n",
      "====> Test set loss: -1442.2710203125\n",
      "====> Epoch: 6 Average loss: -1444.5751537109375\n",
      "====> Test set loss: -1447.9855916015624\n",
      "====> Epoch: 7 Average loss: -1447.7070530598958\n",
      "====> Test set loss: -1449.398477734375\n",
      "====> Epoch: 8 Average loss: -1449.8596869791666\n",
      "====> Test set loss: -1450.7397412109376\n",
      "====> Epoch: 9 Average loss: -1452.342825455729\n",
      "====> Test set loss: -1451.0277017578126\n",
      "====> Epoch: 10 Average loss: -1453.931423046875\n",
      "====> Test set loss: -1454.442444921875\n",
      "====> Epoch: 11 Average loss: -1455.4639106770833\n",
      "====> Test set loss: -1455.694882421875\n",
      "====> Epoch: 12 Average loss: -1456.4354434244792\n",
      "====> Test set loss: -1456.30029296875\n",
      "====> Epoch: 13 Average loss: -1457.5375442708332\n",
      "====> Test set loss: -1456.862062109375\n",
      "====> Epoch: 14 Average loss: -1458.3162134765626\n",
      "====> Test set loss: -1458.8674986328126\n",
      "====> Epoch: 15 Average loss: -1460.0459083333333\n",
      "====> Test set loss: -1455.81562109375\n",
      "====> Epoch: 16 Average loss: -1460.3259627604166\n",
      "====> Test set loss: -1460.9150822265624\n",
      "====> Epoch: 17 Average loss: -1460.8782294270834\n",
      "====> Test set loss: -1458.112754296875\n",
      "====> Epoch: 18 Average loss: -1461.8216484375\n",
      "====> Test set loss: -1458.99170859375\n",
      "====> Epoch: 19 Average loss: -1461.6389570963543\n",
      "====> Test set loss: -1460.9036611328124\n",
      "====> Epoch: 20 Average loss: -1462.649063346354\n",
      "====> Test set loss: -1459.3355529296875\n",
      "====> Epoch: 21 Average loss: -1462.3204970703125\n",
      "====> Test set loss: -1461.258444140625\n",
      "====> Epoch: 22 Average loss: -1463.4161235026043\n",
      "====> Test set loss: -1460.25706171875\n",
      "====> Epoch: 23 Average loss: -1463.7398397135416\n",
      "====> Test set loss: -1462.1671396484376\n",
      "====> Epoch: 24 Average loss: -1464.0576557291668\n",
      "====> Test set loss: -1464.14065703125\n",
      "====> Epoch: 25 Average loss: -1464.968178971354\n",
      "====> Test set loss: -1461.7212638671874\n",
      "====> Epoch: 26 Average loss: -1465.0607399739583\n",
      "====> Test set loss: -1462.068199609375\n",
      "====> Epoch: 27 Average loss: -1465.0205219401041\n",
      "====> Test set loss: -1459.88479921875\n",
      "====> Epoch: 28 Average loss: -1464.47160625\n",
      "====> Test set loss: -1463.54813359375\n",
      "====> Epoch: 29 Average loss: -1465.9171761067707\n",
      "====> Test set loss: -1464.635696484375\n",
      "====> Epoch: 30 Average loss: -1466.200465234375\n",
      "====> Test set loss: -1464.6146927734376\n",
      "====> Epoch: 31 Average loss: -1467.045990169271\n",
      "====> Test set loss: -1464.852380078125\n",
      "====> Epoch: 32 Average loss: -1466.701460546875\n",
      "====> Test set loss: -1464.1759109375\n",
      "====> Epoch: 33 Average loss: -1467.331220703125\n",
      "====> Test set loss: -1464.92069765625\n",
      "====> Epoch: 34 Average loss: -1467.1194314453126\n",
      "====> Test set loss: -1466.52793125\n",
      "====> Epoch: 35 Average loss: -1466.2037576822918\n",
      "====> Test set loss: -1465.9245615234374\n",
      "====> Epoch: 36 Average loss: -1466.643726171875\n",
      "====> Test set loss: -1466.4834673828125\n",
      "====> Epoch: 37 Average loss: -1467.8955419921874\n",
      "====> Test set loss: -1466.414117578125\n",
      "====> Epoch: 38 Average loss: -1468.653379231771\n",
      "====> Test set loss: -1467.1190439453126\n",
      "====> Epoch: 39 Average loss: -1468.0370546875\n",
      "====> Test set loss: -1466.547078515625\n",
      "====> Epoch: 40 Average loss: -1468.7180610677083\n",
      "====> Test set loss: -1467.0645193359376\n",
      "====> Epoch: 41 Average loss: -1469.2987543619793\n",
      "====> Test set loss: -1466.529909765625\n",
      "====> Epoch: 42 Average loss: -1469.6356206380208\n",
      "====> Test set loss: -1468.859954296875\n",
      "====> Epoch: 43 Average loss: -1470.2465384765626\n",
      "====> Test set loss: -1466.00736640625\n",
      "====> Epoch: 44 Average loss: -1466.752110221354\n",
      "====> Test set loss: -1459.97786953125\n",
      "====> Epoch: 45 Average loss: -1464.6007259114583\n",
      "====> Test set loss: -1466.100968359375\n",
      "====> Epoch: 46 Average loss: -1470.087868359375\n",
      "====> Test set loss: -1469.0145880859375\n",
      "====> Epoch: 47 Average loss: -1470.6512046223959\n",
      "====> Test set loss: -1468.98157734375\n",
      "====> Epoch: 48 Average loss: -1471.2277583984376\n",
      "====> Test set loss: -1467.3197966796874\n",
      "====> Epoch: 49 Average loss: -1470.7947375651042\n",
      "====> Test set loss: -1468.8429076171874\n",
      "====> Epoch: 50 Average loss: -1471.0015474609374\n",
      "====> Test set loss: -1470.4097173828125\n"
     ]
    }
   ],
   "source": [
    "vae = VAE(x_dim=784, h_dim1= 512, h_dim2=256, z_dim=2)\n",
    "vae = vae.to(device)\n",
    "optimizer = optim.Adam(vae.parameters())\n",
    "\n",
    "train_losses = []\n",
    "test_losses = []\n",
    "for epoch in range(1, 51):\n",
    "    train_loss = train(vae, epoch, optimizer, train_loader, 1)\n",
    "    train_losses.append(train_loss)\n",
    "    vae = vae.cpu() # weird stuff happens when model is on GPU during testing #macissues\n",
    "    test_loss = test(vae, test_loader, 1)\n",
    "    test_losses.append(test_loss)\n",
    "    vae = vae.to(device) # back to GPU"
   ]
  },
  {
   "cell_type": "code",
   "execution_count": 300,
   "id": "9b7e563d",
   "metadata": {},
   "outputs": [
    {
     "data": {
      "image/png": "[encoded data removed]",
      "text/plain": [
       "<Figure size 640x480 with 1 Axes>"
      ]
     },
     "metadata": {},
     "output_type": "display_data"
    }
   ],
   "source": [
    "sns.lineplot(data=train_losses, label = 'train_loss')\n",
    "sns.lineplot(data=test_losses, label = 'test_loss')\n",
    "plt.legend()\n",
    "plt.ylabel('Loss')\n",
    "plt.xlabel('Epoch')\n",
    "plt.grid()\n",
    "plt.show()"
   ]
  },
  {
   "cell_type": "code",
   "execution_count": 301,
   "id": "4cc7b306",
   "metadata": {},
   "outputs": [],
   "source": [
    "with torch.no_grad():\n",
    "    z = torch.randn(64, 2).to(device)\n",
    "    sample = vae.generate(z).cpu()\n",
    "    save_image(sample.view(64, 1, 28, 28), './samples/sample' + '.png')"
   ]
  },
  {
   "cell_type": "code",
   "execution_count": null,
   "id": "6ea3ee24",
   "metadata": {},
   "outputs": [],
   "source": []
  }
 ],
 "metadata": {
  "kernelspec": {
   "display_name": "Python 3 (ipykernel)",
   "language": "python",
   "name": "python3"
  },
  "language_info": {
   "codemirror_mode": {
    "name": "ipython",
    "version": 3
   },
   "file_extension": ".py",
   "mimetype": "text/x-python",
   "name": "python",
   "nbconvert_exporter": "python",
   "pygments_lexer": "ipython3",
   "version": "3.9.15"
  }
 },
 "nbformat": 4,
 "nbformat_minor": 5
}
