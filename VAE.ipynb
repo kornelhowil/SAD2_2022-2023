{
 "cells": [
  {
   "cell_type": "code",
   "execution_count": 111,
   "id": "c9159a66",
   "metadata": {},
   "outputs": [],
   "source": [
    "import torch\n",
    "import torch.nn as nn\n",
    "import torch.nn.functional as F\n",
    "from torchvision import datasets, transforms\n",
    "import torch.optim as optim\n",
    "from torchvision.utils import save_image\n",
    "import seaborn as sns\n",
    "import matplotlib.pyplot as plt\n",
    "\n",
    "if torch.backends.mps.is_available():\n",
    "    device = torch.device(\"mps\")\n",
    "else:\n",
    "    device = torch.device(\"cpu\")"
   ]
  },
  {
   "cell_type": "markdown",
   "id": "bd9f95c0",
   "metadata": {},
   "source": [
    "# VAE"
   ]
  },
  {
   "cell_type": "markdown",
   "id": "fb16a697",
   "metadata": {},
   "source": [
    "### Encoder"
   ]
  },
  {
   "cell_type": "code",
   "execution_count": 112,
   "id": "ca7b4931",
   "metadata": {},
   "outputs": [],
   "source": [
    "class Encoder(nn.Module):\n",
    "    def __init__(self, x_dim, h_dim1, h_dim2, z_dim):\n",
    "        super(Encoder, self).__init__()\n",
    "        self.lin1 = nn.Linear(x_dim, h_dim1)\n",
    "        self.lin2 = nn.Linear(h_dim1, h_dim2)\n",
    "        self.lin31 = nn.Linear(h_dim2, z_dim) # mu\n",
    "        self.lin32 = nn.Linear(h_dim2, z_dim) # log_var\n",
    "        \n",
    "    def forward(self, x):\n",
    "        x = F.relu(self.lin1(x))\n",
    "        x = F.relu(self.lin2(x))\n",
    "        return self.lin31(x), self.lin32(x) # mu, log_var"
   ]
  },
  {
   "cell_type": "markdown",
   "id": "2099afc1",
   "metadata": {},
   "source": [
    "### Decoder"
   ]
  },
  {
   "cell_type": "code",
   "execution_count": 113,
   "id": "79268a03",
   "metadata": {},
   "outputs": [],
   "source": [
    "class Decoder(nn.Module):\n",
    "    def __init__(self, x_dim, h_dim1, h_dim2, z_dim):\n",
    "        super(Decoder, self).__init__()\n",
    "        self.lin4 = nn.Linear(z_dim, h_dim2)\n",
    "        self.lin5 = nn.Linear(h_dim2, h_dim1)\n",
    "        self.lin6 = nn.Linear(h_dim1, x_dim)\n",
    "\n",
    "    def forward(self, z):\n",
    "        h = F.relu(self.lin4(z))\n",
    "        h = F.relu(self.lin5(h))\n",
    "        return torch.sigmoid(self.lin6(h)) "
   ]
  },
  {
   "cell_type": "markdown",
   "id": "4acc30bf",
   "metadata": {},
   "source": [
    "### Model"
   ]
  },
  {
   "cell_type": "code",
   "execution_count": 114,
   "id": "222b0dbb",
   "metadata": {},
   "outputs": [],
   "source": [
    "class VAE(nn.Module):\n",
    "    def __init__(self, x_dim, h_dim1, h_dim2, z_dim):\n",
    "        super(VAE, self).__init__()\n",
    "        self.encoder = Encoder(x_dim, h_dim1, h_dim2, z_dim)\n",
    "        self.decoder = Decoder(x_dim, h_dim1, h_dim2, z_dim)\n",
    "        \n",
    "    def sampling(self, mu, log_var): \n",
    "        std = torch.sqrt(torch.exp(log_var))\n",
    "        eps = torch.randn_like(std)\n",
    "        return eps * std + mu\n",
    "\n",
    "    def forward(self, x):\n",
    "        mu, log_var = self.encoder.forward(x)\n",
    "        z = self.sampling(mu, log_var)\n",
    "        mu_d = self.decoder(z)\n",
    "        return mu_d, mu, log_var\n",
    "    \n",
    "    def generate(self, z):\n",
    "        return self.decoder(z)"
   ]
  },
  {
   "cell_type": "markdown",
   "id": "12a3bece",
   "metadata": {},
   "source": [
    "# Loss"
   ]
  },
  {
   "cell_type": "code",
   "execution_count": 115,
   "id": "6fd9fc3b",
   "metadata": {},
   "outputs": [],
   "source": [
    "def kl_mvn(mu, sigma, device):\n",
    "    N = mu.shape[1]\n",
    "    mu = mu.reshape(mu.shape[0], mu.shape[1], 1)\n",
    "    tr_term   = torch.sum(sigma, axis = 1)\n",
    "    det_term  = -torch.log(torch.prod(sigma, axis = 1))\n",
    "    quad_term = torch.transpose(mu, 1, 2) @ mu\n",
    "    return torch.sum(0.5 * (tr_term + det_term + quad_term - N))"
   ]
  },
  {
   "cell_type": "code",
   "execution_count": 116,
   "id": "4f2af828",
   "metadata": {},
   "outputs": [],
   "source": [
    "def loss_function(recon_x, x, mu, log_var, beta):\n",
    "    BCE =  F.binary_cross_entropy(recon_x, x, reduction='sum')\n",
    "    KLD = kl_mvn(mu, torch.exp(log_var), device)\n",
    "    return BCE + beta * KLD"
   ]
  },
  {
   "cell_type": "markdown",
   "id": "afd942c1",
   "metadata": {},
   "source": [
    "# Train and test functions"
   ]
  },
  {
   "cell_type": "code",
   "execution_count": 124,
   "id": "f77942c5",
   "metadata": {},
   "outputs": [],
   "source": [
    "def test(vae, test_loader, beta):\n",
    "    vae.eval()\n",
    "    test_loss = 0\n",
    "    with torch.no_grad():\n",
    "        for batch_idx, (data, _) in enumerate(test_loader):\n",
    "            data = data.reshape([-1, 784])\n",
    "            recon, mu, log_var = vae(data)\n",
    "            test_loss += loss_function(recon, data, mu, log_var, beta).item()\n",
    "        \n",
    "    test_loss /= len(test_loader.dataset)\n",
    "    print(f'====> Test set loss: {test_loss}')\n",
    "    return test_loss"
   ]
  },
  {
   "cell_type": "code",
   "execution_count": 125,
   "id": "abe4b29b",
   "metadata": {},
   "outputs": [],
   "source": [
    "def train(vae, epoch, optimizer, train_loader, beta):\n",
    "    vae.train()\n",
    "    train_loss = 0\n",
    "    batch_idx = 0\n",
    "    for batch_idx, (data, _) in enumerate(train_loader):\n",
    "        data = data.to(device)\n",
    "        data = data.reshape([-1, 784])\n",
    "        optimizer.zero_grad()\n",
    "        recon_batch, mu, log_var = vae(data)\n",
    "        loss = loss_function(recon_batch, data, mu, log_var, beta)\n",
    "        loss.backward()\n",
    "        train_loss += loss.item()\n",
    "        optimizer.step()\n",
    "        batch_idx += 1\n",
    "    train_loss /= len(train_loader.dataset)\n",
    "    print(f'====> Epoch: {epoch} Average loss: {train_loss}')\n",
    "    return train_loss"
   ]
  },
  {
   "cell_type": "markdown",
   "id": "e7f9a1df",
   "metadata": {},
   "source": [
    "# Train and test sets"
   ]
  },
  {
   "cell_type": "code",
   "execution_count": 126,
   "id": "c126be46",
   "metadata": {},
   "outputs": [],
   "source": [
    "# Batch size\n",
    "bs = 32\n",
    "# MNIST Dataset\n",
    "train_dataset = datasets.MNIST(root='./mnist_data/',\n",
    "                               train=True,\n",
    "                               transform=transforms.ToTensor(),\n",
    "                               download=True)\n",
    "test_dataset = datasets.MNIST(root='./mnist_data/',\n",
    "                              train=False,\n",
    "                              transform=transforms.ToTensor(),\n",
    "                              download=False)\n",
    "\n",
    "# Data Loader (Input Pipeline)\n",
    "train_loader = torch.utils.data.DataLoader(dataset=train_dataset, batch_size=bs, shuffle=True)\n",
    "test_loader = torch.utils.data.DataLoader(dataset=test_dataset, batch_size=bs, shuffle=False)"
   ]
  },
  {
   "cell_type": "markdown",
   "id": "11507ddf",
   "metadata": {},
   "source": [
    "# Training"
   ]
  },
  {
   "cell_type": "code",
   "execution_count": null,
   "id": "1a8e7612",
   "metadata": {},
   "outputs": [
    {
     "name": "stdout",
     "output_type": "stream",
     "text": [
      "====> Epoch: 1 Average loss: 177.63921728515626\n",
      "====> Test set loss: 167.04786755371094\n",
      "====> Epoch: 2 Average loss: 165.19479329427082\n",
      "====> Test set loss: 163.36739477539064\n",
      "====> Epoch: 3 Average loss: 162.11614813639324\n",
      "====> Test set loss: 161.2070421142578\n",
      "====> Epoch: 4 Average loss: 160.37610712890626\n",
      "====> Test set loss: 159.72736186523437\n"
     ]
    }
   ],
   "source": [
    "vae = VAE(x_dim=784, h_dim1= 512, h_dim2=256, z_dim=2)\n",
    "vae = vae.to(device)\n",
    "optimizer = optim.Adam(vae.parameters())\n",
    "\n",
    "train_losses = []\n",
    "test_losses = []\n",
    "for epoch in range(1, 51):\n",
    "    train_loss = train(vae, epoch, optimizer, train_loader, 0.1)\n",
    "    train_losses.append(train_loss)\n",
    "    vae = vae.cpu() # weird stuff happens when model is on GPU during testing\n",
    "    test_loss = test(vae, test_loader, 0.1)\n",
    "    test_losses.append(test_loss)\n",
    "    vae = vae.to(device)"
   ]
  },
  {
   "cell_type": "code",
   "execution_count": 121,
   "id": "42a58f36",
   "metadata": {},
   "outputs": [
    {
     "ename": "TypeError",
     "evalue": "'NoneType' object is not iterable",
     "output_type": "error",
     "traceback": [
      "\u001b[0;31m---------------------------------------------------------------------------\u001b[0m",
      "\u001b[0;31mTypeError\u001b[0m                                 Traceback (most recent call last)",
      "Cell \u001b[0;32mIn [121], line 2\u001b[0m\n\u001b[1;32m      1\u001b[0m sns\u001b[38;5;241m.\u001b[39mlineplot(data\u001b[38;5;241m=\u001b[39mtrain_losses)\n\u001b[0;32m----> 2\u001b[0m \u001b[43msns\u001b[49m\u001b[38;5;241;43m.\u001b[39;49m\u001b[43mlineplot\u001b[49m\u001b[43m(\u001b[49m\u001b[43mdata\u001b[49m\u001b[38;5;241;43m=\u001b[39;49m\u001b[43mtest_losses\u001b[49m\u001b[43m)\u001b[49m\n\u001b[1;32m      3\u001b[0m plt\u001b[38;5;241m.\u001b[39mlegend(labels\u001b[38;5;241m=\u001b[39m[\u001b[38;5;124m'\u001b[39m\u001b[38;5;124mtrain_loss\u001b[39m\u001b[38;5;124m'\u001b[39m, \u001b[38;5;124m'\u001b[39m\u001b[38;5;124mtest_loss\u001b[39m\u001b[38;5;124m'\u001b[39m])\n\u001b[1;32m      4\u001b[0m plt\u001b[38;5;241m.\u001b[39mxlabel(\u001b[38;5;124m'\u001b[39m\u001b[38;5;124mLoss\u001b[39m\u001b[38;5;124m'\u001b[39m)\n",
      "File \u001b[0;32m/opt/anaconda3/lib/python3.9/site-packages/seaborn/relational.py:639\u001b[0m, in \u001b[0;36mlineplot\u001b[0;34m(data, x, y, hue, size, style, units, palette, hue_order, hue_norm, sizes, size_order, size_norm, dashes, markers, style_order, estimator, errorbar, n_boot, seed, orient, sort, err_style, err_kws, legend, ci, ax, **kwargs)\u001b[0m\n\u001b[1;32m    636\u001b[0m color \u001b[38;5;241m=\u001b[39m kwargs\u001b[38;5;241m.\u001b[39mpop(\u001b[38;5;124m\"\u001b[39m\u001b[38;5;124mcolor\u001b[39m\u001b[38;5;124m\"\u001b[39m, kwargs\u001b[38;5;241m.\u001b[39mpop(\u001b[38;5;124m\"\u001b[39m\u001b[38;5;124mc\u001b[39m\u001b[38;5;124m\"\u001b[39m, \u001b[38;5;28;01mNone\u001b[39;00m))\n\u001b[1;32m    637\u001b[0m kwargs[\u001b[38;5;124m\"\u001b[39m\u001b[38;5;124mcolor\u001b[39m\u001b[38;5;124m\"\u001b[39m] \u001b[38;5;241m=\u001b[39m _default_color(ax\u001b[38;5;241m.\u001b[39mplot, hue, color, kwargs)\n\u001b[0;32m--> 639\u001b[0m \u001b[43mp\u001b[49m\u001b[38;5;241;43m.\u001b[39;49m\u001b[43mplot\u001b[49m\u001b[43m(\u001b[49m\u001b[43max\u001b[49m\u001b[43m,\u001b[49m\u001b[43m \u001b[49m\u001b[43mkwargs\u001b[49m\u001b[43m)\u001b[49m\n\u001b[1;32m    640\u001b[0m \u001b[38;5;28;01mreturn\u001b[39;00m ax\n",
      "File \u001b[0;32m/opt/anaconda3/lib/python3.9/site-packages/seaborn/relational.py:423\u001b[0m, in \u001b[0;36m_LinePlotter.plot\u001b[0;34m(self, ax, kws)\u001b[0m\n\u001b[1;32m    415\u001b[0m \u001b[38;5;66;03m# TODO How to handle NA? We don't want NA to propagate through to the\u001b[39;00m\n\u001b[1;32m    416\u001b[0m \u001b[38;5;66;03m# estimate/CI when some values are present, but we would also like\u001b[39;00m\n\u001b[1;32m    417\u001b[0m \u001b[38;5;66;03m# matplotlib to show \"gaps\" in the line when all values are missing.\u001b[39;00m\n\u001b[0;32m   (...)\u001b[0m\n\u001b[1;32m    420\u001b[0m \n\u001b[1;32m    421\u001b[0m \u001b[38;5;66;03m# Loop over the semantic subsets and add to the plot\u001b[39;00m\n\u001b[1;32m    422\u001b[0m grouping_vars \u001b[38;5;241m=\u001b[39m \u001b[38;5;124m\"\u001b[39m\u001b[38;5;124mhue\u001b[39m\u001b[38;5;124m\"\u001b[39m, \u001b[38;5;124m\"\u001b[39m\u001b[38;5;124msize\u001b[39m\u001b[38;5;124m\"\u001b[39m, \u001b[38;5;124m\"\u001b[39m\u001b[38;5;124mstyle\u001b[39m\u001b[38;5;124m\"\u001b[39m\n\u001b[0;32m--> 423\u001b[0m \u001b[38;5;28;01mfor\u001b[39;00m sub_vars, sub_data \u001b[38;5;129;01min\u001b[39;00m \u001b[38;5;28mself\u001b[39m\u001b[38;5;241m.\u001b[39miter_data(grouping_vars, from_comp_data\u001b[38;5;241m=\u001b[39m\u001b[38;5;28;01mTrue\u001b[39;00m):\n\u001b[1;32m    425\u001b[0m     \u001b[38;5;28;01mif\u001b[39;00m \u001b[38;5;28mself\u001b[39m\u001b[38;5;241m.\u001b[39msort:\n\u001b[1;32m    426\u001b[0m         sort_vars \u001b[38;5;241m=\u001b[39m [\u001b[38;5;124m\"\u001b[39m\u001b[38;5;124munits\u001b[39m\u001b[38;5;124m\"\u001b[39m, orient, other]\n",
      "File \u001b[0;32m/opt/anaconda3/lib/python3.9/site-packages/seaborn/_oldcore.py:1065\u001b[0m, in \u001b[0;36mVectorPlotter.iter_data\u001b[0;34m(self, grouping_vars, reverse, from_comp_data, by_facet, allow_empty, dropna)\u001b[0m\n\u001b[1;32m   1062\u001b[0m \u001b[38;5;28;01mfor\u001b[39;00m var \u001b[38;5;129;01min\u001b[39;00m grouping_vars:\n\u001b[1;32m   1063\u001b[0m     grouping_keys\u001b[38;5;241m.\u001b[39mappend(levels\u001b[38;5;241m.\u001b[39mget(var, []))\n\u001b[0;32m-> 1065\u001b[0m iter_keys \u001b[38;5;241m=\u001b[39m \u001b[43mitertools\u001b[49m\u001b[38;5;241;43m.\u001b[39;49m\u001b[43mproduct\u001b[49m\u001b[43m(\u001b[49m\u001b[38;5;241;43m*\u001b[39;49m\u001b[43mgrouping_keys\u001b[49m\u001b[43m)\u001b[49m\n\u001b[1;32m   1066\u001b[0m \u001b[38;5;28;01mif\u001b[39;00m reverse:\n\u001b[1;32m   1067\u001b[0m     iter_keys \u001b[38;5;241m=\u001b[39m \u001b[38;5;28mreversed\u001b[39m(\u001b[38;5;28mlist\u001b[39m(iter_keys))\n",
      "\u001b[0;31mTypeError\u001b[0m: 'NoneType' object is not iterable"
     ]
    },
    {
     "data": {
      "image/png": "[encoded data removed]",
      "text/plain": [
       "<Figure size 640x480 with 1 Axes>"
      ]
     },
     "metadata": {},
     "output_type": "display_data"
    }
   ],
   "source": [
    "sns.lineplot(data=train_losses)\n",
    "sns.lineplot(data=test_losses)\n",
    "plt.legend(labels=['train_loss', 'test_loss'])\n",
    "plt.xlabel('Loss')\n",
    "plt.ylabel('Epoch')"
   ]
  },
  {
   "cell_type": "code",
   "execution_count": 122,
   "id": "ff3d48b0",
   "metadata": {},
   "outputs": [
    {
     "name": "stdout",
     "output_type": "stream",
     "text": [
      "[tensor(170.2381), tensor(164.8555), tensor(162.0847), tensor(160.8446), tensor(159.9016), tensor(159.1483), tensor(157.3567), tensor(157.9079), tensor(157.7563), tensor(156.5211), tensor(157.2785), tensor(157.0353), tensor(156.4331), tensor(155.3626), tensor(157.7559), tensor(155.8699), tensor(155.0143), tensor(154.8925), tensor(155.1117), tensor(155.0805), tensor(154.8062), tensor(155.6361), tensor(154.2713), tensor(154.4934), tensor(154.5265), tensor(154.6238), tensor(155.9459), tensor(156.3406), tensor(154.7824), tensor(154.3289), tensor(154.4541), tensor(154.1154), tensor(155.9353), tensor(154.1305), tensor(154.9451), tensor(155.5164), tensor(155.1859), tensor(154.1348), tensor(154.3222), tensor(154.2019), tensor(153.9871), tensor(154.0758), tensor(156.6090), tensor(155.6253), tensor(154.8797), tensor(155.0502), tensor(153.4986), tensor(154.7456), tensor(155.3341), tensor(154.3283)]\n",
      "[179.876437890625, 166.55146145833334, 163.21837059733073, 160.9530272745768, 159.72890345865886, 158.80343310139975, 158.19490233561197, 157.33356272786457, 157.01160877278645, 156.88037361246745, 156.4126787923177, 156.15086218261717, 156.11574274088542, 155.36903248697917, 155.50485517578124, 156.27101807047526, 154.7993647338867, 155.06514259033204, 154.63352825927734, 154.38388794759115, 154.10988513183594, 154.17980481770834, 154.0069049641927, 153.90356326497397, 153.78617826741535, 153.81976770833333, 153.58108073323567, 154.49560884602866, 154.3095761271159, 153.75297221679688, 154.03601839599608, 153.5610753133138, 153.33955196126303, 153.61094879150392, 153.31928531901042, 153.40196855061848, 153.6162800048828, 153.3946903198242, 153.4347338704427, 153.84926978352865, 153.2416715616862, 152.64503902994792, 152.91028873697917, 154.10923072509766, 154.39393313395183, 153.600362504069, 153.81366209716796, 152.90428124186198, 152.86446345214844, 153.64585556640625]\n"
     ]
    }
   ],
   "source": [
    "print(test_losses)\n",
    "print(train_losses)"
   ]
  },
  {
   "cell_type": "code",
   "execution_count": 22,
   "id": "4cc7b306",
   "metadata": {},
   "outputs": [],
   "source": [
    "with torch.no_grad():\n",
    "    z = torch.randn(64, 2).to(device)\n",
    "    sample = vae.generate(z).cpu()\n",
    "    save_image(sample.view(64, 1, 28, 28), './samples/sample' + '.png')"
   ]
  }
 ],
 "metadata": {
  "kernelspec": {
   "display_name": "Python 3 (ipykernel)",
   "language": "python",
   "name": "python3"
  },
  "language_info": {
   "codemirror_mode": {
    "name": "ipython",
    "version": 3
   },
   "file_extension": ".py",
   "mimetype": "text/x-python",
   "name": "python",
   "nbconvert_exporter": "python",
   "pygments_lexer": "ipython3",
   "version": "3.9.15"
  }
 },
 "nbformat": 4,
 "nbformat_minor": 5
}
