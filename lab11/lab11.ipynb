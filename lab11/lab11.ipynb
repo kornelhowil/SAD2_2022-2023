{
 "cells": [
  {
   "cell_type": "markdown",
   "id": "027c7032",
   "metadata": {},
   "source": [
    "# Kruskal’s Algorithm"
   ]
  },
  {
   "cell_type": "markdown",
   "id": "a5576af1",
   "metadata": {},
   "source": [
    "The content of the following notebook is based on [this R course](https://web.archive.org/web/20141114045919/http://www.stats.ox.ac.uk/~konis/Rcourse/exercise1.pdf) and [Hage et al. (1996) paper](./hage1996.pdf)."
   ]
  },
  {
   "cell_type": "markdown",
   "id": "e8b39cfd",
   "metadata": {},
   "source": [
    "### Introduction: Similarity of Polynesian islands"
   ]
  },
  {
   "cell_type": "markdown",
   "id": "3180a3a4",
   "metadata": {},
   "source": [
    "In 1938 Burrows published the results of an extensive archaeological analysis of Polynesian\n",
    "islands. By examining cultural traits and complexes including artifacts (tools, canoe types,\n",
    "bark cloth, etc.), aspects of social organization (languages, kinship practices), and religious\n",
    "ideas, he identified 4 subgroups in Polynesia.\n",
    "\n",
    "- Western Polynesia (Samoa, Tonga)\n",
    "- Central Polynesia (Society Islands, Tuamotus, Southern Cooks, Australs, Rapa, Hawaii)\n",
    "- Marginal Polynesia (New Zealand, Easter Island, Marqueses, Mangareva)\n",
    "- Intermediate Polynesia (Northern Cooks)\n",
    "\n",
    "In 1992 Irwin proposed that the level of similarity between Polynesian cultures is proportional\n",
    "to the ease of travel between them. In other words, the more remote two islands are, the less\n",
    "similar their cultures. \n",
    "\n",
    "Below you can find the Irwin's close proximity analysis of the mutual accessibility network of Polynesian islands.\n",
    "\n",
    "\n",
    "![](./irving_map.png)\n",
    "\n",
    "In support of the hypothesis that accessibility is predictive of patterns of cultural similarity, Irwin\n",
    "notes parallels between his close proximity network and the subgroupings in Polynesia identified\n",
    "by Burrows (1938). Unfortunately, the Irvin's network contains many superfluous edges and hence cycles which tend to obscure such parallels."
   ]
  },
  {
   "cell_type": "markdown",
   "id": "fed85389",
   "metadata": {},
   "source": [
    "### Task 1: Implement Maximum Weight Spanning Tree"
   ]
  },
  {
   "cell_type": "markdown",
   "id": "1ec3a002",
   "metadata": {},
   "source": [
    "**The assignment is to test Irwin’s hypothesis by computing a maximum weight spanning tree\n",
    "for the accessibility of these 13 islands.**\n",
    "\n",
    "The following matrix gives the mutual accessibility (as computed by\n",
    "Irwin) between the islands in the study."
   ]
  },
  {
   "cell_type": "code",
   "execution_count": 1,
   "id": "b67fa7ec",
   "metadata": {},
   "outputs": [],
   "source": [
    "header = ['TON', 'SAM', 'SCK', 'NCK', 'SOC', 'MRQ', 'TUA', 'MGR', 'AUS', 'RAP', 'HAW', 'EAS', 'NZ']\n",
    "\n",
    "matrix = [\n",
    "    [0, 0.44, 0.32, 0.18, 0.22, 0.18, 0.24, 0.09, 0.16, 0.10, 0.11, 0.03, 0.23],\n",
    "    [0.44, 0, 0.27, 0.23, 0.17, 0.15, 0.17, 0.10, 0.19, 0.11, 0.19, 0.05, 0.24],\n",
    "    [0.32, 0.27, 0,  0.23, 0.54, 0.30, 0.46, 0.14, 0.38, 0.18, 0.15, 0.08, 0.24],\n",
    "    [0.18, 0.23, 0.23, 0,  0.23, 0.15, 0.21, 0.11, 0.18, 0.14, 0.11, 0.05, 0.10],\n",
    "    [0.22, 0.17, 0.54, 0.23, 0, 0.41, 0.98, 0.22, 0.71, 0.21, 0.20, 0.09, 0.20],\n",
    "    [0.18, 0.15, 0.30, 0.15, 0.41, 0, 0.54, 0.20, 0.34, 0.15, 0.13, 0.10, 0.12],\n",
    "    [0.24, 0.17, 0.46, 0.21, 0.98, 0.54, 0, 0.34, 0.63, 0.21, 0.21, 0.11, 0.24],\n",
    "    [0.09, 0.10, 0.14, 0.11, 0.22, 0.20, 0.34, 0, 0.23, 0.21, 0.08, 0.14, 0.08],\n",
    "    [0.16, 0.19, 0.38, 0.18, 0.71, 0.34, 0.63, 0.23, 0, 0.33, 0.19, 0.06, 0.21],\n",
    "    [0.10, 0.11, 0.18, 0.14, 0.21, 0.15, 0.21, 0.21, 0.33, 0, 0.05, 0.10, 0.09],\n",
    "    [0.11, 0.19, 0.15, 0.11, 0.20, 0.13, 0.21, 0.08, 0.19, 0.05, 0,  0.03, 0.09],\n",
    "    [0.03, 0.05, 0.08, 0.05, 0.09, 0.10, 0.11, 0.14, 0.06, 0.10, 0.03, 0, 0.00],\n",
    "    [0.23, 0.24, 0.24, 0.10, 0.20, 0.12, 0.24, 0.08, 0.21, 0.09, 0.09, 0.00, 0]\n",
    "]\n"
   ]
  },
  {
   "cell_type": "code",
   "execution_count": 2,
   "id": "46a21e27",
   "metadata": {
    "scrolled": true
   },
   "outputs": [],
   "source": [
    "from collections import namedtuple\n",
    "\n",
    "Edge = namedtuple('Edge', ['weight', 'island1', 'island2'])\n",
    "\n",
    "\n",
    "def matrix_to_edges(header, matrix):\n",
    "    G = []\n",
    "    for i, row in enumerate(matrix):\n",
    "        for j, weight in enumerate(row):\n",
    "            if weight != 0 or i == j:\n",
    "                island1 = header[i]\n",
    "                island2 = header[j]\n",
    "                G.append(Edge(weight=weight, island1=island1, island2=island2))\n",
    "    return G\n",
    "\n",
    "G = matrix_to_edges(header, matrix)"
   ]
  },
  {
   "cell_type": "markdown",
   "id": "33257261",
   "metadata": {},
   "source": [
    "One method for computing the maximum weight spanning tree of a network G – due to Kruskal\n",
    "– can be summarized as follows.\n",
    "\n",
    "1. Sort the edges of $G$ into decreasing order by weight. Let $T$ be the set of edges comprising the maximum weight spanning tree. Set $T = ∅$.\n",
    "2. Add the first edge to $T$.\n",
    "3. Add the next edge to $T$ if and only if it does not form a cycle in $T$. If there are no remaining edges exit and report $G$ to be disconnected.\n",
    "4. If $T$ has $n−1$ edges (where $n$ is the number of vertices in $G$) stop and output $T$. Otherwise go to step 3."
   ]
  },
  {
   "cell_type": "code",
   "execution_count": 8,
   "id": "ecd68ac5",
   "metadata": {},
   "outputs": [],
   "source": [
    "class DisJointSets():\n",
    "    def __init__(self,N):\n",
    "        # Initially, all elements are single element subsets\n",
    "        self._parents = [node for node in range(N)]\n",
    "        self._ranks = [1 for _ in range(N)]\n",
    "    \n",
    "    def find(self, u):\n",
    "        while u != self._parents[u]: \n",
    "            # path compression technique\n",
    "            self._parents[u] = self._parents[self._parents[u]]\n",
    "            u = self._parents[u]\n",
    "        return u\n",
    "    \n",
    "    def connected(self, u, v):\n",
    "        return self.find(u) == self.find(v)\n",
    "    \n",
    "    def union(self, u, v):\n",
    "        # Union by rank optimization\n",
    "        root_u, root_v = self.find(u), self.find(v)\n",
    "        if root_u == root_v:\n",
    "            return True\n",
    "        if self._ranks[root_u] > self._ranks[root_v]:\n",
    "            self._parents[root_v] = root_u\n",
    "        elif self._ranks[root_v] > self._ranks[root_u]:\n",
    "            self._parents[root_u] = root_v\n",
    "        else:\n",
    "            self._parents[root_u] = root_v\n",
    "            self._ranks[root_v] += 1\n",
    "        return False\n",
    "\n",
    "def kruskal(edges, header):\n",
    "    # Sort the edges by weight\n",
    "    edges.sort(key=lambda edge: edge.weight, reverse=True)\n",
    "    #print(edges)\n",
    "    djsets = DisJointSets(len(header))\n",
    "    \n",
    "    vertices = {}\n",
    "    i = 0\n",
    "    for island in header:\n",
    "        vertices[island] = i\n",
    "        i += 1\n",
    "        \n",
    "    num_vertices = len(header)\n",
    "    \n",
    "    res = []\n",
    "    for edge in edges:\n",
    "        if (not djsets.connected(vertices[edge.island1], vertices[edge.island2])):\n",
    "            djsets.union(vertices[edge.island1], vertices[edge.island2])\n",
    "            res.append(edge)\n",
    "    \n",
    "    return res   \n",
    "    # TODO: Implement kruskal algorithm\n",
    "    \n",
    "\n",
    "# Example usage\n",
    "mst = kruskal(G, header)"
   ]
  },
  {
   "cell_type": "markdown",
   "id": "6484d88f",
   "metadata": {},
   "source": [
    "### Task 2\n",
    "Draw the maximum weight spanning tree. Use dashed lines for the $k$ edges with the smallest weights (where $k$ is a number you pick) to emphasize the clusters. You can use the coordinates given below to plot the islands in their geographical distance."
   ]
  },
  {
   "cell_type": "code",
   "execution_count": 1,
   "id": "6a5636bc",
   "metadata": {},
   "outputs": [],
   "source": [
    "# TODO: Plot your MST"
   ]
  },
  {
   "cell_type": "markdown",
   "id": "49c865b1",
   "metadata": {},
   "source": [
    "If you want you can use the following coordinates and plot the results on a map."
   ]
  },
  {
   "cell_type": "code",
   "execution_count": 9,
   "id": "a8a3f7a4",
   "metadata": {},
   "outputs": [
    {
     "data": {
      "image/png": "[encoded data removed]",
      "text/plain": [
       "<Figure size 1000x1000 with 1 Axes>"
      ]
     },
     "metadata": {},
     "output_type": "display_data"
    }
   ],
   "source": [
    "locations = [\n",
    "  (-21.13, -175.20, \"TON\"),\n",
    "  (-13.83, -171.83, \"SAM\"),\n",
    "  (-21.33, -160.27, \"SCK\"),\n",
    "  (-10.88, -165.82, \"NCK\"),\n",
    "  (-17.67, -149.50, \"SOC\"),\n",
    "  (-8.89, -140.13, \"MRQ\"),\n",
    "  (-15.08, -145.87, \"TUA\"),\n",
    "  (-23.12, -134.97, \"MGR\"),\n",
    "  (-23.38, -149.45, \"AUS\"),\n",
    "  (-27.58, -144.33, \"RAP\"),\n",
    "  (19.52, -155.51, \"HAW\"),\n",
    "  (-27.12, -109.37, \"EAS\"),\n",
    "  (-41.35, -175.02, \"NZ\")\n",
    "]\n",
    "islands = {}\n",
    "Island = namedtuple('Island', ['x', 'y'])\n",
    "for i in locations:\n",
    "    islands[i[2]] = Island(i[0], i[1])\n",
    "\n",
    "\n",
    "import matplotlib.pyplot as plt\n",
    "\n",
    "\n",
    "\n",
    "fig, ax = plt.subplots()\n",
    "fig.set_figheight(10)\n",
    "fig.set_figwidth(10)\n",
    "x = [i[0] for i in locations]\n",
    "y = [i[1] for i in locations]\n",
    "ax.scatter(x, y)\n",
    "\n",
    "for i in locations:\n",
    "    ax.annotate(i[2], (i[0], i[1]))\n",
    "\n",
    "for i in mst:\n",
    "    x1 = islands[i.island1].x\n",
    "    y1 = islands[i.island1].y\n",
    "    x2 = islands[i.island2].x\n",
    "    y2 = islands[i.island2].y\n",
    "    ax.plot((x1, x2), (y1, y2), '-')\n",
    "\n",
    "plt.show()"
   ]
  },
  {
   "cell_type": "markdown",
   "id": "36fc41b1",
   "metadata": {},
   "source": [
    "### Task 3\n",
    "Compare the implied clusters with those given in Burrows’ study. Additionally, compare your results to Figure 3 in the Hage et al. paper. What are the differences? Is your clutering in agreement with what Burrows suggested?"
   ]
  },
  {
   "cell_type": "markdown",
   "id": "3924c4cf",
   "metadata": {},
   "source": [
    "The only difference between my results and the results from Figure 3 in the Hege et al. paper is that NZ is connected to SAM instead of SCK. Both edges have the same weight (0.24) so my result agrees with the one in the paper. \n",
    "\n",
    "I don't know how a tree corresponds to clustering but clusters provided in Burrows' study definitely don't match my tree."
   ]
  },
  {
   "cell_type": "code",
   "execution_count": null,
   "id": "03eca386",
   "metadata": {},
   "outputs": [],
   "source": []
  }
 ],
 "metadata": {
  "kernelspec": {
   "display_name": "Python 3 (ipykernel)",
   "language": "python",
   "name": "python3"
  },
  "language_info": {
   "codemirror_mode": {
    "name": "ipython",
    "version": 3
   },
   "file_extension": ".py",
   "mimetype": "text/x-python",
   "name": "python",
   "nbconvert_exporter": "python",
   "pygments_lexer": "ipython3",
   "version": "3.9.12"
  }
 },
 "nbformat": 4,
 "nbformat_minor": 5
}
